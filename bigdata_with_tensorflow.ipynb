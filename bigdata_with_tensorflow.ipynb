{
 "cells": [
  {
   "cell_type": "markdown",
   "metadata": {},
   "source": [
    "## 要根据预创建的 Estimator 编写 TensorFlow 程序，您必须执行下列任务：\n",
    "\n",
    "- 创建一个或多个输入函数。\n",
    "- 定义模型的特征列。\n",
    "- 实例化 Estimator，指定特征列和各种超参数。\n",
    "- 在 Estimator 对象上调用一个或多个方法，传递适当的输入函数作为数据的来源。\n"
   ]
  },
  {
   "cell_type": "code",
   "execution_count": 30,
   "metadata": {},
   "outputs": [],
   "source": [
    "from __future__ import absolute_import\n",
    "from __future__ import division\n",
    "from __future__ import print_function\n",
    "import argparse\n",
    "import tensorflow as tf\n",
    "import numpy as np\n",
    "import matplotlib.pyplot as plt\n",
    "# import iris_data"
   ]
  },
  {
   "cell_type": "markdown",
   "metadata": {},
   "source": [
    "# 获得训练数据"
   ]
  },
  {
   "cell_type": "code",
   "execution_count": 31,
   "metadata": {},
   "outputs": [],
   "source": [
    "import pandas\n",
    "from sklearn.model_selection import train_test_split\n",
    "from sklearn.externals import joblib\n",
    "import pandas as pd\n",
    "\n",
    "df = pd.read_csv('train_data/1_to_11_train_building.csv')\n",
    "#打乱数据\n",
    "for i in range(10):\n",
    "    df=df.reindex(np.random.permutation(df.index))"
   ]
  },
  {
   "cell_type": "code",
   "execution_count": 32,
   "metadata": {},
   "outputs": [
    {
     "data": {
      "text/html": [
       "<div>\n",
       "<style scoped>\n",
       "    .dataframe tbody tr th:only-of-type {\n",
       "        vertical-align: middle;\n",
       "    }\n",
       "\n",
       "    .dataframe tbody tr th {\n",
       "        vertical-align: top;\n",
       "    }\n",
       "\n",
       "    .dataframe thead th {\n",
       "        text-align: right;\n",
       "    }\n",
       "</style>\n",
       "<table border=\"1\" class=\"dataframe\">\n",
       "  <thead>\n",
       "    <tr style=\"text-align: right;\">\n",
       "      <th></th>\n",
       "      <th>Unnamed: 0</th>\n",
       "      <th>Unnamed: 0.1</th>\n",
       "      <th>loc_id</th>\n",
       "      <th>time</th>\n",
       "      <th>count</th>\n",
       "      <th>weekday</th>\n",
       "      <th>stage</th>\n",
       "      <th>is_weekend</th>\n",
       "      <th>month</th>\n",
       "      <th>day</th>\n",
       "      <th>hour</th>\n",
       "      <th>building</th>\n",
       "      <th>cat</th>\n",
       "    </tr>\n",
       "  </thead>\n",
       "  <tbody>\n",
       "    <tr>\n",
       "      <th>219361</th>\n",
       "      <td>219361</td>\n",
       "      <td>219361</td>\n",
       "      <td>29</td>\n",
       "      <td>2017-09-04 12:00:00</td>\n",
       "      <td>2691</td>\n",
       "      <td>0</td>\n",
       "      <td>1</td>\n",
       "      <td>0</td>\n",
       "      <td>9</td>\n",
       "      <td>4</td>\n",
       "      <td>12</td>\n",
       "      <td>13</td>\n",
       "      <td>2</td>\n",
       "    </tr>\n",
       "    <tr>\n",
       "      <th>152534</th>\n",
       "      <td>152534</td>\n",
       "      <td>152534</td>\n",
       "      <td>20</td>\n",
       "      <td>2017-10-30 11:00:00</td>\n",
       "      <td>1940</td>\n",
       "      <td>0</td>\n",
       "      <td>1</td>\n",
       "      <td>0</td>\n",
       "      <td>10</td>\n",
       "      <td>30</td>\n",
       "      <td>11</td>\n",
       "      <td>12</td>\n",
       "      <td>3</td>\n",
       "    </tr>\n",
       "    <tr>\n",
       "      <th>180347</th>\n",
       "      <td>180347</td>\n",
       "      <td>180347</td>\n",
       "      <td>24</td>\n",
       "      <td>2017-07-27 07:00:00</td>\n",
       "      <td>153</td>\n",
       "      <td>3</td>\n",
       "      <td>2</td>\n",
       "      <td>0</td>\n",
       "      <td>7</td>\n",
       "      <td>27</td>\n",
       "      <td>7</td>\n",
       "      <td>17</td>\n",
       "      <td>3</td>\n",
       "    </tr>\n",
       "    <tr>\n",
       "      <th>223753</th>\n",
       "      <td>223753</td>\n",
       "      <td>223753</td>\n",
       "      <td>30</td>\n",
       "      <td>2017-04-11 05:00:00</td>\n",
       "      <td>198</td>\n",
       "      <td>1</td>\n",
       "      <td>0</td>\n",
       "      <td>0</td>\n",
       "      <td>4</td>\n",
       "      <td>11</td>\n",
       "      <td>5</td>\n",
       "      <td>9</td>\n",
       "      <td>1</td>\n",
       "    </tr>\n",
       "  </tbody>\n",
       "</table>\n",
       "</div>"
      ],
      "text/plain": [
       "        Unnamed: 0  Unnamed: 0.1  loc_id                 time  count  weekday  \\\n",
       "219361      219361        219361      29  2017-09-04 12:00:00   2691        0   \n",
       "152534      152534        152534      20  2017-10-30 11:00:00   1940        0   \n",
       "180347      180347        180347      24  2017-07-27 07:00:00    153        3   \n",
       "223753      223753        223753      30  2017-04-11 05:00:00    198        1   \n",
       "\n",
       "        stage  is_weekend  month  day  hour  building  cat  \n",
       "219361      1           0      9    4    12        13    2  \n",
       "152534      1           0     10   30    11        12    3  \n",
       "180347      2           0      7   27     7        17    3  \n",
       "223753      0           0      4   11     5         9    1  "
      ]
     },
     "execution_count": 32,
     "metadata": {},
     "output_type": "execute_result"
    }
   ],
   "source": [
    "df.head(4)"
   ]
  },
  {
   "cell_type": "markdown",
   "metadata": {},
   "source": [
    "### 各个建筑物人数分布"
   ]
  },
  {
   "cell_type": "code",
   "execution_count": 33,
   "metadata": {},
   "outputs": [
    {
     "data": {
      "text/plain": [
       "<matplotlib.axes._subplots.AxesSubplot at 0x7f85a5399a90>"
      ]
     },
     "execution_count": 33,
     "metadata": {},
     "output_type": "execute_result"
    },
    {
     "data": {
      "image/png": "[encoded data removed]",
      "text/plain": [
       "<matplotlib.figure.Figure at 0x7f85a53b05c0>"
      ]
     },
     "metadata": {},
     "output_type": "display_data"
    }
   ],
   "source": [
    "a=df['building'].value_counts()\n",
    "a.sort_index().plot(kind='bar')"
   ]
  },
  {
   "cell_type": "code",
   "execution_count": 34,
   "metadata": {},
   "outputs": [],
   "source": [
    "data_X = {'loc_id':df['loc_id'].values,'month':df['month'].values,\n",
    "        'day':df['day'].values,'hour':df['hour'].values,\n",
    "#           'stage':df['stage'].values,\n",
    "         'weekday':df['weekday'].values,\n",
    "         'is_weekend':df['is_weekend'].values,\n",
    "          'building':df['building'].values,'cat':df['cat'].values\n",
    "         }\n",
    "data_y = {'count':df['count'].values}\n",
    "df_train_X = pd.DataFrame(data=data_X)\n",
    "df_train_y = pd.DataFrame(data=data_y)"
   ]
  },
  {
   "cell_type": "code",
   "execution_count": 35,
   "metadata": {},
   "outputs": [],
   "source": [
    "df_train_X['building'] = df_train_X['building']-1\n",
    "df_train_X['cat'] = df_train_X['cat']-1\n",
    "df_train_X['day'] = df_train_X['day']-1\n",
    "df_train_X['loc_id'] = df_train_X['loc_id']-1\n",
    "df_train_X['month'] = df_train_X['month']-1"
   ]
  },
  {
   "cell_type": "code",
   "execution_count": 36,
   "metadata": {},
   "outputs": [
    {
     "data": {
      "text/html": [
       "<div>\n",
       "<style scoped>\n",
       "    .dataframe tbody tr th:only-of-type {\n",
       "        vertical-align: middle;\n",
       "    }\n",
       "\n",
       "    .dataframe tbody tr th {\n",
       "        vertical-align: top;\n",
       "    }\n",
       "\n",
       "    .dataframe thead th {\n",
       "        text-align: right;\n",
       "    }\n",
       "</style>\n",
       "<table border=\"1\" class=\"dataframe\">\n",
       "  <thead>\n",
       "    <tr style=\"text-align: right;\">\n",
       "      <th></th>\n",
       "      <th>building</th>\n",
       "      <th>cat</th>\n",
       "      <th>day</th>\n",
       "      <th>hour</th>\n",
       "      <th>is_weekend</th>\n",
       "      <th>loc_id</th>\n",
       "      <th>month</th>\n",
       "      <th>weekday</th>\n",
       "    </tr>\n",
       "  </thead>\n",
       "  <tbody>\n",
       "    <tr>\n",
       "      <th>count</th>\n",
       "      <td>252013.000000</td>\n",
       "      <td>252013.000000</td>\n",
       "      <td>252013.000000</td>\n",
       "      <td>252013.000000</td>\n",
       "      <td>252013.000000</td>\n",
       "      <td>252013.000000</td>\n",
       "      <td>252013.000000</td>\n",
       "      <td>252013.000000</td>\n",
       "    </tr>\n",
       "    <tr>\n",
       "      <th>mean</th>\n",
       "      <td>8.194680</td>\n",
       "      <td>0.602759</td>\n",
       "      <td>14.603687</td>\n",
       "      <td>11.525338</td>\n",
       "      <td>0.286156</td>\n",
       "      <td>15.973303</td>\n",
       "      <td>5.062279</td>\n",
       "      <td>3.004805</td>\n",
       "    </tr>\n",
       "    <tr>\n",
       "      <th>std</th>\n",
       "      <td>5.329816</td>\n",
       "      <td>0.848723</td>\n",
       "      <td>8.823848</td>\n",
       "      <td>6.891378</td>\n",
       "      <td>0.451964</td>\n",
       "      <td>9.529865</td>\n",
       "      <td>3.173494</td>\n",
       "      <td>2.006589</td>\n",
       "    </tr>\n",
       "    <tr>\n",
       "      <th>min</th>\n",
       "      <td>0.000000</td>\n",
       "      <td>0.000000</td>\n",
       "      <td>0.000000</td>\n",
       "      <td>0.000000</td>\n",
       "      <td>0.000000</td>\n",
       "      <td>0.000000</td>\n",
       "      <td>0.000000</td>\n",
       "      <td>0.000000</td>\n",
       "    </tr>\n",
       "    <tr>\n",
       "      <th>25%</th>\n",
       "      <td>3.000000</td>\n",
       "      <td>0.000000</td>\n",
       "      <td>7.000000</td>\n",
       "      <td>6.000000</td>\n",
       "      <td>0.000000</td>\n",
       "      <td>8.000000</td>\n",
       "      <td>2.000000</td>\n",
       "      <td>1.000000</td>\n",
       "    </tr>\n",
       "    <tr>\n",
       "      <th>50%</th>\n",
       "      <td>8.000000</td>\n",
       "      <td>0.000000</td>\n",
       "      <td>14.000000</td>\n",
       "      <td>12.000000</td>\n",
       "      <td>0.000000</td>\n",
       "      <td>16.000000</td>\n",
       "      <td>5.000000</td>\n",
       "      <td>3.000000</td>\n",
       "    </tr>\n",
       "    <tr>\n",
       "      <th>75%</th>\n",
       "      <td>13.000000</td>\n",
       "      <td>1.000000</td>\n",
       "      <td>22.000000</td>\n",
       "      <td>17.000000</td>\n",
       "      <td>1.000000</td>\n",
       "      <td>24.000000</td>\n",
       "      <td>8.000000</td>\n",
       "      <td>5.000000</td>\n",
       "    </tr>\n",
       "    <tr>\n",
       "      <th>max</th>\n",
       "      <td>17.000000</td>\n",
       "      <td>2.000000</td>\n",
       "      <td>30.000000</td>\n",
       "      <td>23.000000</td>\n",
       "      <td>1.000000</td>\n",
       "      <td>32.000000</td>\n",
       "      <td>10.000000</td>\n",
       "      <td>6.000000</td>\n",
       "    </tr>\n",
       "  </tbody>\n",
       "</table>\n",
       "</div>"
      ],
      "text/plain": [
       "            building            cat            day           hour  \\\n",
       "count  252013.000000  252013.000000  252013.000000  252013.000000   \n",
       "mean        8.194680       0.602759      14.603687      11.525338   \n",
       "std         5.329816       0.848723       8.823848       6.891378   \n",
       "min         0.000000       0.000000       0.000000       0.000000   \n",
       "25%         3.000000       0.000000       7.000000       6.000000   \n",
       "50%         8.000000       0.000000      14.000000      12.000000   \n",
       "75%        13.000000       1.000000      22.000000      17.000000   \n",
       "max        17.000000       2.000000      30.000000      23.000000   \n",
       "\n",
       "          is_weekend         loc_id          month        weekday  \n",
       "count  252013.000000  252013.000000  252013.000000  252013.000000  \n",
       "mean        0.286156      15.973303       5.062279       3.004805  \n",
       "std         0.451964       9.529865       3.173494       2.006589  \n",
       "min         0.000000       0.000000       0.000000       0.000000  \n",
       "25%         0.000000       8.000000       2.000000       1.000000  \n",
       "50%         0.000000      16.000000       5.000000       3.000000  \n",
       "75%         1.000000      24.000000       8.000000       5.000000  \n",
       "max         1.000000      32.000000      10.000000       6.000000  "
      ]
     },
     "execution_count": 36,
     "metadata": {},
     "output_type": "execute_result"
    }
   ],
   "source": [
    "df_train_X.describe()"
   ]
  },
  {
   "cell_type": "code",
   "execution_count": 37,
   "metadata": {},
   "outputs": [],
   "source": [
    "# num_train = int(df_train_X.shape[0]/5)\n",
    "num_train = df_train_X.shape[0]\n",
    "x = df_train_X[:-10000]\n",
    "y = df_train_y['count'][:-10000]"
   ]
  },
  {
   "cell_type": "code",
   "execution_count": 38,
   "metadata": {},
   "outputs": [
    {
     "data": {
      "text/plain": [
       "252013"
      ]
     },
     "execution_count": 38,
     "metadata": {},
     "output_type": "execute_result"
    }
   ],
   "source": [
    "# 总的训练数据\n",
    "num_train"
   ]
  },
  {
   "cell_type": "markdown",
   "metadata": {},
   "source": [
    "### 获得评测模型准确率的数据"
   ]
  },
  {
   "cell_type": "code",
   "execution_count": 39,
   "metadata": {},
   "outputs": [],
   "source": [
    "x_eval = df_train_X[-10000:]\n",
    "y_eval = df_train_y['count'][-10000:]"
   ]
  },
  {
   "cell_type": "markdown",
   "metadata": {},
   "source": [
    "### 获得预测数据"
   ]
  },
  {
   "cell_type": "code",
   "execution_count": 40,
   "metadata": {},
   "outputs": [],
   "source": [
    "df = pd.read_csv('train_data/12_test_buiding.csv')"
   ]
  },
  {
   "cell_type": "code",
   "execution_count": 41,
   "metadata": {},
   "outputs": [],
   "source": [
    "data_X_predict = {'loc_id':df['loc_id'].values,'month':df['month'].values,\n",
    "        'day':df['day'].values,'hour':df['hour'].values,\n",
    "#         'stage':df['stage'].values,\n",
    "        'building':df['building'].values,'cat':df['cat'].values,\n",
    "         'weekday':df['weekday'].values, \n",
    "         'is_weekend':df['is_weekend'].values\n",
    "         }\n",
    "df_test_X = pd.DataFrame(data=data_X_predict)"
   ]
  },
  {
   "cell_type": "code",
   "execution_count": 42,
   "metadata": {},
   "outputs": [],
   "source": [
    "df_test_X['building'] = df_test_X['building']-1\n",
    "df_test_X['cat'] = df_test_X['cat']-1\n",
    "df_test_X['day'] = df_test_X['day']-1\n",
    "df_test_X['loc_id'] = df_test_X['loc_id']-1\n",
    "df_test_X['month'] = df_test_X['month']-1"
   ]
  },
  {
   "cell_type": "code",
   "execution_count": 43,
   "metadata": {},
   "outputs": [
    {
     "data": {
      "text/html": [
       "<div>\n",
       "<style scoped>\n",
       "    .dataframe tbody tr th:only-of-type {\n",
       "        vertical-align: middle;\n",
       "    }\n",
       "\n",
       "    .dataframe tbody tr th {\n",
       "        vertical-align: top;\n",
       "    }\n",
       "\n",
       "    .dataframe thead th {\n",
       "        text-align: right;\n",
       "    }\n",
       "</style>\n",
       "<table border=\"1\" class=\"dataframe\">\n",
       "  <thead>\n",
       "    <tr style=\"text-align: right;\">\n",
       "      <th></th>\n",
       "      <th>building</th>\n",
       "      <th>cat</th>\n",
       "      <th>day</th>\n",
       "      <th>hour</th>\n",
       "      <th>is_weekend</th>\n",
       "      <th>loc_id</th>\n",
       "      <th>month</th>\n",
       "      <th>weekday</th>\n",
       "    </tr>\n",
       "  </thead>\n",
       "  <tbody>\n",
       "    <tr>\n",
       "      <th>count</th>\n",
       "      <td>24552.000000</td>\n",
       "      <td>24552.000000</td>\n",
       "      <td>24552.000000</td>\n",
       "      <td>24552.000000</td>\n",
       "      <td>24552.000000</td>\n",
       "      <td>24552.000000</td>\n",
       "      <td>24552.0</td>\n",
       "      <td>24552.000000</td>\n",
       "    </tr>\n",
       "    <tr>\n",
       "      <th>mean</th>\n",
       "      <td>8.212121</td>\n",
       "      <td>0.606061</td>\n",
       "      <td>15.000000</td>\n",
       "      <td>11.500000</td>\n",
       "      <td>0.322581</td>\n",
       "      <td>16.000000</td>\n",
       "      <td>11.0</td>\n",
       "      <td>3.193548</td>\n",
       "    </tr>\n",
       "    <tr>\n",
       "      <th>std</th>\n",
       "      <td>5.330170</td>\n",
       "      <td>0.850664</td>\n",
       "      <td>8.944454</td>\n",
       "      <td>6.922328</td>\n",
       "      <td>0.467473</td>\n",
       "      <td>9.522098</td>\n",
       "      <td>0.0</td>\n",
       "      <td>2.006793</td>\n",
       "    </tr>\n",
       "    <tr>\n",
       "      <th>min</th>\n",
       "      <td>0.000000</td>\n",
       "      <td>0.000000</td>\n",
       "      <td>0.000000</td>\n",
       "      <td>0.000000</td>\n",
       "      <td>0.000000</td>\n",
       "      <td>0.000000</td>\n",
       "      <td>11.0</td>\n",
       "      <td>0.000000</td>\n",
       "    </tr>\n",
       "    <tr>\n",
       "      <th>25%</th>\n",
       "      <td>3.000000</td>\n",
       "      <td>0.000000</td>\n",
       "      <td>7.000000</td>\n",
       "      <td>5.750000</td>\n",
       "      <td>0.000000</td>\n",
       "      <td>8.000000</td>\n",
       "      <td>11.0</td>\n",
       "      <td>1.000000</td>\n",
       "    </tr>\n",
       "    <tr>\n",
       "      <th>50%</th>\n",
       "      <td>8.000000</td>\n",
       "      <td>0.000000</td>\n",
       "      <td>15.000000</td>\n",
       "      <td>11.500000</td>\n",
       "      <td>0.000000</td>\n",
       "      <td>16.000000</td>\n",
       "      <td>11.0</td>\n",
       "      <td>3.000000</td>\n",
       "    </tr>\n",
       "    <tr>\n",
       "      <th>75%</th>\n",
       "      <td>13.000000</td>\n",
       "      <td>1.000000</td>\n",
       "      <td>23.000000</td>\n",
       "      <td>17.250000</td>\n",
       "      <td>1.000000</td>\n",
       "      <td>24.000000</td>\n",
       "      <td>11.0</td>\n",
       "      <td>5.000000</td>\n",
       "    </tr>\n",
       "    <tr>\n",
       "      <th>max</th>\n",
       "      <td>17.000000</td>\n",
       "      <td>2.000000</td>\n",
       "      <td>30.000000</td>\n",
       "      <td>23.000000</td>\n",
       "      <td>1.000000</td>\n",
       "      <td>32.000000</td>\n",
       "      <td>11.0</td>\n",
       "      <td>6.000000</td>\n",
       "    </tr>\n",
       "  </tbody>\n",
       "</table>\n",
       "</div>"
      ],
      "text/plain": [
       "           building           cat           day          hour    is_weekend  \\\n",
       "count  24552.000000  24552.000000  24552.000000  24552.000000  24552.000000   \n",
       "mean       8.212121      0.606061     15.000000     11.500000      0.322581   \n",
       "std        5.330170      0.850664      8.944454      6.922328      0.467473   \n",
       "min        0.000000      0.000000      0.000000      0.000000      0.000000   \n",
       "25%        3.000000      0.000000      7.000000      5.750000      0.000000   \n",
       "50%        8.000000      0.000000     15.000000     11.500000      0.000000   \n",
       "75%       13.000000      1.000000     23.000000     17.250000      1.000000   \n",
       "max       17.000000      2.000000     30.000000     23.000000      1.000000   \n",
       "\n",
       "             loc_id    month       weekday  \n",
       "count  24552.000000  24552.0  24552.000000  \n",
       "mean      16.000000     11.0      3.193548  \n",
       "std        9.522098      0.0      2.006793  \n",
       "min        0.000000     11.0      0.000000  \n",
       "25%        8.000000     11.0      1.000000  \n",
       "50%       16.000000     11.0      3.000000  \n",
       "75%       24.000000     11.0      5.000000  \n",
       "max       32.000000     11.0      6.000000  "
      ]
     },
     "execution_count": 43,
     "metadata": {},
     "output_type": "execute_result"
    }
   ],
   "source": [
    "x_predict = df_test_X\n",
    "\n",
    "x_predict.describe()"
   ]
  },
  {
   "cell_type": "markdown",
   "metadata": {},
   "source": [
    "# 构造输入函数"
   ]
  },
  {
   "cell_type": "code",
   "execution_count": 44,
   "metadata": {},
   "outputs": [],
   "source": [
    "#训练模型输入函数\n",
    "my_input_fn = tf.estimator.inputs.pandas_input_fn(x,y,shuffle=True)\n",
    "#验证数据集输入函数\n",
    "input_fn_eval = tf.estimator.inputs.pandas_input_fn(x_eval,y_eval,shuffle=True)\n",
    "#预测数据集输入函数\n",
    "input_fn_predict = tf.estimator.inputs.pandas_input_fn(x_predict,shuffle=False)"
   ]
  },
  {
   "cell_type": "markdown",
   "metadata": {},
   "source": [
    "# 构造特征列\n",
    "\n",
    "- 分类标志列\n",
    "- 交叉列\n",
    "- 嵌入列\n",
    "\n",
    "其中嵌入列是DNN的输入特征列，分类标识列将月份等时间转换为独热编码，特别注意分桶的数量选择，例如0-12，分桶为13模型才不会报错，1-5的特征分桶为6，一次类推确定分桶的数字。\n",
    "\n",
    "建议查看官方文档:https://tensorflow.google.cn/get_started/feature_columns#categorical_identity_column"
   ]
  },
  {
   "cell_type": "code",
   "execution_count": 45,
   "metadata": {},
   "outputs": [],
   "source": [
    "my_feature_columns = []\n",
    "# keys = ['day','hour','loc_id','month']\n",
    "\n",
    "# for key in keys:\n",
    "#     my_feature_columns.append(tf.feature_column.numeric_column(key=key))\n",
    "day_idt = tf.feature_column.categorical_column_with_identity(key='day',num_buckets=31)\n",
    "hour_idt = tf.feature_column.categorical_column_with_identity(key='hour',num_buckets=24)\n",
    "loc_idt = tf.feature_column.categorical_column_with_identity(key='loc_id',num_buckets=33)\n",
    "building_idt = tf.feature_column.categorical_column_with_identity(key='building',num_buckets=18)\n",
    "cat_idt = tf.feature_column.categorical_column_with_identity(key='cat',num_buckets=3)\n",
    "# 测试数据和预测数据一共12个月所以用12+1个桶\n",
    "month_idt = tf.feature_column.categorical_column_with_identity(key='month',num_buckets=13)\n",
    "stage_idt = tf.feature_column.categorical_column_with_identity(key='stage',num_buckets=3)\n",
    "\n",
    "is_weekend_idt = tf.feature_column.categorical_column_with_identity(key='is_weekend',num_buckets=2)\n",
    "weekday_idt = tf.feature_column.categorical_column_with_identity(key='weekday',num_buckets=7)"
   ]
  },
  {
   "cell_type": "markdown",
   "metadata": {},
   "source": [
    "#### 添加cross feature\n",
    "\n",
    "将两个特征组合交叉产生新的特征，详情：https://tensorflow.google.cn/get_started/feature_columns#crossed_column"
   ]
  },
  {
   "cell_type": "code",
   "execution_count": 46,
   "metadata": {},
   "outputs": [],
   "source": [
    "weekday_x_isWeekend = tf.feature_column.crossed_column([weekday_idt, is_weekend_idt],15)"
   ]
  },
  {
   "cell_type": "markdown",
   "metadata": {},
   "source": [
    "#### 添加embedding feature\n",
    "\n",
    "DNN的常用输入特征，详情见：https://tensorflow.google.cn/get_started/feature_columns#indicator_and_embedding_columns"
   ]
  },
  {
   "cell_type": "code",
   "execution_count": 47,
   "metadata": {},
   "outputs": [],
   "source": [
    "day_emb = tf.feature_column.embedding_column(day_idt,3)\n",
    "hour_emb = tf.feature_column.embedding_column(hour_idt,3)\n",
    "loc_emb = tf.feature_column.embedding_column(loc_idt,3)\n",
    "month_emb = tf.feature_column.embedding_column(month_idt,3)\n",
    "#stage_emb = tf.feature_column.embedding_column(stage_idt,2)\n",
    "# is_weekend_emb = tf.feature_column.embedding_column(is_weekend_idt,2)\n",
    "# weekday_emb = tf.feature_column.embedding_column(weekday_idt,2)\n",
    "# 添加cross到embedding\n",
    "weekday_x_isWeekend_emb = tf.feature_column.embedding_column(weekday_x_isWeekend, 2)\n",
    "\n",
    "building_emb = tf.feature_column.embedding_column(building_idt,3)\n",
    "cat_emb = tf.feature_column.embedding_column(cat_idt,2)"
   ]
  },
  {
   "cell_type": "code",
   "execution_count": 48,
   "metadata": {},
   "outputs": [],
   "source": [
    "# DNN特征列\n",
    "my_feature_columns = [day_emb, hour_emb, loc_emb, month_emb,\n",
    "                      \n",
    "#                       is_weekend_emb, weekday_emb,\n",
    "                      weekday_x_isWeekend_emb,\n",
    "                     building_emb, cat_emb]"
   ]
  },
  {
   "cell_type": "code",
   "execution_count": 49,
   "metadata": {},
   "outputs": [
    {
     "data": {
      "text/plain": [
       "[_EmbeddingColumn(categorical_column=_IdentityCategoricalColumn(key='day', num_buckets=31, default_value=None), dimension=3, combiner='mean', initializer=<tensorflow.python.ops.init_ops.TruncatedNormal object at 0x7f85a568e940>, ckpt_to_load_from=None, tensor_name_in_ckpt=None, max_norm=None, trainable=True),\n",
       " _EmbeddingColumn(categorical_column=_IdentityCategoricalColumn(key='hour', num_buckets=24, default_value=None), dimension=3, combiner='mean', initializer=<tensorflow.python.ops.init_ops.TruncatedNormal object at 0x7f85a568ea20>, ckpt_to_load_from=None, tensor_name_in_ckpt=None, max_norm=None, trainable=True),\n",
       " _EmbeddingColumn(categorical_column=_IdentityCategoricalColumn(key='loc_id', num_buckets=33, default_value=None), dimension=3, combiner='mean', initializer=<tensorflow.python.ops.init_ops.TruncatedNormal object at 0x7f85a568ea90>, ckpt_to_load_from=None, tensor_name_in_ckpt=None, max_norm=None, trainable=True),\n",
       " _EmbeddingColumn(categorical_column=_IdentityCategoricalColumn(key='month', num_buckets=13, default_value=None), dimension=3, combiner='mean', initializer=<tensorflow.python.ops.init_ops.TruncatedNormal object at 0x7f85a568eac8>, ckpt_to_load_from=None, tensor_name_in_ckpt=None, max_norm=None, trainable=True),\n",
       " _EmbeddingColumn(categorical_column=_CrossedColumn(keys=(_IdentityCategoricalColumn(key='weekday', num_buckets=7, default_value=None), _IdentityCategoricalColumn(key='is_weekend', num_buckets=2, default_value=None)), hash_bucket_size=15, hash_key=None), dimension=2, combiner='mean', initializer=<tensorflow.python.ops.init_ops.TruncatedNormal object at 0x7f85a568e978>, ckpt_to_load_from=None, tensor_name_in_ckpt=None, max_norm=None, trainable=True),\n",
       " _EmbeddingColumn(categorical_column=_IdentityCategoricalColumn(key='building', num_buckets=18, default_value=None), dimension=3, combiner='mean', initializer=<tensorflow.python.ops.init_ops.TruncatedNormal object at 0x7f85a568e9b0>, ckpt_to_load_from=None, tensor_name_in_ckpt=None, max_norm=None, trainable=True),\n",
       " _EmbeddingColumn(categorical_column=_IdentityCategoricalColumn(key='cat', num_buckets=3, default_value=None), dimension=2, combiner='mean', initializer=<tensorflow.python.ops.init_ops.TruncatedNormal object at 0x7f85a568e9e8>, ckpt_to_load_from=None, tensor_name_in_ckpt=None, max_norm=None, trainable=True)]"
      ]
     },
     "execution_count": 49,
     "metadata": {},
     "output_type": "execute_result"
    }
   ],
   "source": [
    "my_feature_columns"
   ]
  },
  {
   "cell_type": "markdown",
   "metadata": {},
   "source": [
    "# 选择DNN回归模型"
   ]
  },
  {
   "cell_type": "code",
   "execution_count": 50,
   "metadata": {},
   "outputs": [
    {
     "name": "stdout",
     "output_type": "stream",
     "text": [
      "INFO:tensorflow:Using default config.\n",
      "WARNING:tensorflow:Using temporary folder as model directory: /tmp/tmpl8xpxb7u\n",
      "INFO:tensorflow:Using config: {'_model_dir': '/tmp/tmpl8xpxb7u', '_tf_random_seed': None, '_save_summary_steps': 100, '_save_checkpoints_steps': None, '_save_checkpoints_secs': 600, '_session_config': None, '_keep_checkpoint_max': 5, '_keep_checkpoint_every_n_hours': 10000, '_log_step_count_steps': 100, '_train_distribute': None, '_service': None, '_cluster_spec': <tensorflow.python.training.server_lib.ClusterSpec object at 0x7f85a56937f0>, '_task_type': 'worker', '_task_id': 0, '_global_id_in_cluster': 0, '_master': '', '_evaluation_master': '', '_is_chief': True, '_num_ps_replicas': 0, '_num_worker_replicas': 1}\n"
     ]
    }
   ],
   "source": [
    "clf = tf.estimator.DNNRegressor(\n",
    "    feature_columns=my_feature_columns,\n",
    "#     hidden_units=[23760/2,5120,51200,2048])\n",
    "#     hidden_units=[120000,10240,10240,5120]\n",
    "   hidden_units=[4096,1024,256])\n",
    "#     hidden_units=[4096*2,512*2])"
   ]
  },
  {
   "cell_type": "markdown",
   "metadata": {},
   "source": [
    "# 训练模型、评测、预测"
   ]
  },
  {
   "cell_type": "code",
   "execution_count": 51,
   "metadata": {},
   "outputs": [
    {
     "name": "stdout",
     "output_type": "stream",
     "text": [
      "INFO:tensorflow:Calling model_fn.\n",
      "INFO:tensorflow:Done calling model_fn.\n",
      "INFO:tensorflow:Create CheckpointSaverHook.\n",
      "INFO:tensorflow:Graph was finalized.\n",
      "INFO:tensorflow:Running local_init_op.\n",
      "INFO:tensorflow:Done running local_init_op.\n",
      "INFO:tensorflow:Saving checkpoints for 1 into /tmp/tmpl8xpxb7u/model.ckpt.\n",
      "INFO:tensorflow:loss = 67188350.0, step = 1\n",
      "INFO:tensorflow:global_step/sec: 23.3985\n",
      "INFO:tensorflow:loss = 19882282.0, step = 101 (4.275 sec)\n",
      "INFO:tensorflow:global_step/sec: 24.7333\n",
      "INFO:tensorflow:loss = 25377378.0, step = 201 (4.043 sec)\n",
      "INFO:tensorflow:global_step/sec: 24.6445\n",
      "INFO:tensorflow:loss = 11084098.0, step = 301 (4.058 sec)\n",
      "INFO:tensorflow:global_step/sec: 24.7444\n",
      "INFO:tensorflow:loss = 4102409.0, step = 401 (4.041 sec)\n",
      "INFO:tensorflow:global_step/sec: 24.8083\n",
      "INFO:tensorflow:loss = 6507180.5, step = 501 (4.031 sec)\n",
      "INFO:tensorflow:global_step/sec: 24.5251\n",
      "INFO:tensorflow:loss = 5033039.0, step = 601 (4.077 sec)\n",
      "INFO:tensorflow:global_step/sec: 23.7543\n",
      "INFO:tensorflow:loss = 7907728.0, step = 701 (4.210 sec)\n",
      "INFO:tensorflow:global_step/sec: 22.1624\n",
      "INFO:tensorflow:loss = 6836766.5, step = 801 (4.512 sec)\n",
      "INFO:tensorflow:global_step/sec: 24.0971\n",
      "INFO:tensorflow:loss = 3673767.0, step = 901 (4.150 sec)\n",
      "INFO:tensorflow:global_step/sec: 24.008\n",
      "INFO:tensorflow:loss = 4175561.2, step = 1001 (4.166 sec)\n",
      "INFO:tensorflow:global_step/sec: 23.7408\n",
      "INFO:tensorflow:loss = 9889354.0, step = 1101 (4.212 sec)\n",
      "INFO:tensorflow:global_step/sec: 23.7617\n",
      "INFO:tensorflow:loss = 5935974.5, step = 1201 (4.208 sec)\n",
      "INFO:tensorflow:global_step/sec: 23.7373\n",
      "INFO:tensorflow:loss = 6860062.0, step = 1301 (4.213 sec)\n",
      "INFO:tensorflow:global_step/sec: 23.3293\n",
      "INFO:tensorflow:loss = 2914892.5, step = 1401 (4.287 sec)\n",
      "INFO:tensorflow:global_step/sec: 19.8789\n",
      "INFO:tensorflow:loss = 2848226.0, step = 1501 (5.030 sec)\n",
      "INFO:tensorflow:global_step/sec: 21.1181\n",
      "INFO:tensorflow:loss = 2143149.8, step = 1601 (4.735 sec)\n",
      "INFO:tensorflow:global_step/sec: 23.3402\n",
      "INFO:tensorflow:loss = 2704562.0, step = 1701 (4.284 sec)\n",
      "INFO:tensorflow:global_step/sec: 22.2438\n",
      "INFO:tensorflow:loss = 3911157.0, step = 1801 (4.496 sec)\n",
      "INFO:tensorflow:Saving checkpoints for 1891 into /tmp/tmpl8xpxb7u/model.ckpt.\n",
      "INFO:tensorflow:Loss for final step: 3786414.5.\n",
      "INFO:tensorflow:Calling model_fn.\n",
      "INFO:tensorflow:Done calling model_fn.\n",
      "INFO:tensorflow:Create CheckpointSaverHook.\n",
      "INFO:tensorflow:Graph was finalized.\n",
      "INFO:tensorflow:Restoring parameters from /tmp/tmpl8xpxb7u/model.ckpt-1891\n",
      "INFO:tensorflow:Running local_init_op.\n",
      "INFO:tensorflow:Done running local_init_op.\n",
      "INFO:tensorflow:Saving checkpoints for 1892 into /tmp/tmpl8xpxb7u/model.ckpt.\n",
      "INFO:tensorflow:loss = 5287677.5, step = 1892\n",
      "INFO:tensorflow:global_step/sec: 23.064\n",
      "INFO:tensorflow:loss = 4422657.0, step = 1992 (4.337 sec)\n",
      "INFO:tensorflow:global_step/sec: 24.659\n",
      "INFO:tensorflow:loss = 6717317.5, step = 2092 (4.055 sec)\n",
      "INFO:tensorflow:global_step/sec: 21.7561\n",
      "INFO:tensorflow:loss = 2969821.8, step = 2192 (4.596 sec)\n",
      "INFO:tensorflow:global_step/sec: 23.5538\n",
      "INFO:tensorflow:loss = 3773643.5, step = 2292 (4.246 sec)\n",
      "INFO:tensorflow:global_step/sec: 22.3053\n",
      "INFO:tensorflow:loss = 4280384.0, step = 2392 (4.483 sec)\n",
      "INFO:tensorflow:global_step/sec: 22.8678\n",
      "INFO:tensorflow:loss = 4678012.0, step = 2492 (4.373 sec)\n",
      "INFO:tensorflow:global_step/sec: 22.6628\n",
      "INFO:tensorflow:loss = 6455501.0, step = 2592 (4.412 sec)\n",
      "INFO:tensorflow:global_step/sec: 21.5834\n",
      "INFO:tensorflow:loss = 6291244.0, step = 2692 (4.634 sec)\n",
      "INFO:tensorflow:global_step/sec: 22.586\n",
      "INFO:tensorflow:loss = 2270750.2, step = 2792 (4.427 sec)\n",
      "INFO:tensorflow:global_step/sec: 21.8146\n",
      "INFO:tensorflow:loss = 3399094.5, step = 2892 (4.584 sec)\n",
      "INFO:tensorflow:global_step/sec: 22.8857\n",
      "INFO:tensorflow:loss = 3068354.2, step = 2992 (4.369 sec)\n",
      "INFO:tensorflow:global_step/sec: 24.6236\n",
      "INFO:tensorflow:loss = 3234655.2, step = 3092 (4.061 sec)\n",
      "INFO:tensorflow:global_step/sec: 23.8515\n",
      "INFO:tensorflow:loss = 2312312.8, step = 3192 (4.193 sec)\n",
      "INFO:tensorflow:global_step/sec: 20.429\n",
      "INFO:tensorflow:loss = 5573664.0, step = 3292 (4.894 sec)\n",
      "INFO:tensorflow:global_step/sec: 22.5429\n",
      "INFO:tensorflow:loss = 2369243.0, step = 3392 (4.436 sec)\n",
      "INFO:tensorflow:global_step/sec: 24.4339\n",
      "INFO:tensorflow:loss = 2711595.8, step = 3492 (4.093 sec)\n",
      "INFO:tensorflow:global_step/sec: 24.6341\n",
      "INFO:tensorflow:loss = 4621580.0, step = 3592 (4.060 sec)\n",
      "INFO:tensorflow:global_step/sec: 22.0263\n",
      "INFO:tensorflow:loss = 1928421.4, step = 3692 (4.540 sec)\n",
      "INFO:tensorflow:Saving checkpoints for 3782 into /tmp/tmpl8xpxb7u/model.ckpt.\n",
      "INFO:tensorflow:Loss for final step: 1787357.6.\n",
      "INFO:tensorflow:Calling model_fn.\n",
      "INFO:tensorflow:Done calling model_fn.\n",
      "INFO:tensorflow:Create CheckpointSaverHook.\n",
      "INFO:tensorflow:Graph was finalized.\n",
      "INFO:tensorflow:Restoring parameters from /tmp/tmpl8xpxb7u/model.ckpt-3782\n",
      "INFO:tensorflow:Running local_init_op.\n",
      "INFO:tensorflow:Done running local_init_op.\n",
      "INFO:tensorflow:Saving checkpoints for 3783 into /tmp/tmpl8xpxb7u/model.ckpt.\n",
      "INFO:tensorflow:loss = 2792469.5, step = 3783\n",
      "INFO:tensorflow:global_step/sec: 23.0899\n",
      "INFO:tensorflow:loss = 3670993.5, step = 3883 (4.332 sec)\n",
      "INFO:tensorflow:global_step/sec: 23.0052\n",
      "INFO:tensorflow:loss = 5194525.0, step = 3983 (4.347 sec)\n",
      "INFO:tensorflow:global_step/sec: 23.0432\n",
      "INFO:tensorflow:loss = 5964858.0, step = 4083 (4.340 sec)\n",
      "INFO:tensorflow:global_step/sec: 22.1339\n",
      "INFO:tensorflow:loss = 3602733.0, step = 4183 (4.518 sec)\n",
      "INFO:tensorflow:global_step/sec: 23.5634\n",
      "INFO:tensorflow:loss = 2336582.0, step = 4283 (4.244 sec)\n",
      "INFO:tensorflow:global_step/sec: 21.4971\n",
      "INFO:tensorflow:loss = 3387310.0, step = 4383 (4.652 sec)\n",
      "INFO:tensorflow:global_step/sec: 23.7735\n",
      "INFO:tensorflow:loss = 1841370.6, step = 4483 (4.206 sec)\n",
      "INFO:tensorflow:global_step/sec: 21.8393\n",
      "INFO:tensorflow:loss = 4372703.0, step = 4583 (4.579 sec)\n",
      "INFO:tensorflow:global_step/sec: 23.197\n",
      "INFO:tensorflow:loss = 3292209.2, step = 4683 (4.311 sec)\n",
      "INFO:tensorflow:global_step/sec: 22.2932\n",
      "INFO:tensorflow:loss = 3909076.0, step = 4783 (4.486 sec)\n",
      "INFO:tensorflow:global_step/sec: 22.695\n",
      "INFO:tensorflow:loss = 3386001.8, step = 4883 (4.406 sec)\n",
      "INFO:tensorflow:global_step/sec: 22.9201\n",
      "INFO:tensorflow:loss = 4652896.5, step = 4983 (4.363 sec)\n",
      "INFO:tensorflow:global_step/sec: 22.1568\n",
      "INFO:tensorflow:loss = 7484001.0, step = 5083 (4.513 sec)\n",
      "INFO:tensorflow:global_step/sec: 23.0468\n",
      "INFO:tensorflow:loss = 6412143.0, step = 5183 (4.339 sec)\n",
      "INFO:tensorflow:global_step/sec: 21.4849\n",
      "INFO:tensorflow:loss = 2956899.5, step = 5283 (4.655 sec)\n",
      "INFO:tensorflow:global_step/sec: 23.5204\n",
      "INFO:tensorflow:loss = 1642998.8, step = 5383 (4.252 sec)\n",
      "INFO:tensorflow:global_step/sec: 21.7232\n",
      "INFO:tensorflow:loss = 5394034.0, step = 5483 (4.603 sec)\n",
      "INFO:tensorflow:global_step/sec: 23.1279\n",
      "INFO:tensorflow:loss = 2806297.5, step = 5583 (4.324 sec)\n",
      "INFO:tensorflow:Saving checkpoints for 5673 into /tmp/tmpl8xpxb7u/model.ckpt.\n",
      "INFO:tensorflow:Loss for final step: 2442643.5.\n",
      "INFO:tensorflow:Calling model_fn.\n",
      "INFO:tensorflow:Done calling model_fn.\n",
      "INFO:tensorflow:Create CheckpointSaverHook.\n",
      "INFO:tensorflow:Graph was finalized.\n",
      "INFO:tensorflow:Restoring parameters from /tmp/tmpl8xpxb7u/model.ckpt-5673\n",
      "INFO:tensorflow:Running local_init_op.\n",
      "INFO:tensorflow:Done running local_init_op.\n",
      "INFO:tensorflow:Saving checkpoints for 5674 into /tmp/tmpl8xpxb7u/model.ckpt.\n",
      "INFO:tensorflow:loss = 5337537.0, step = 5674\n",
      "INFO:tensorflow:global_step/sec: 22.5203\n",
      "INFO:tensorflow:loss = 2440103.5, step = 5774 (4.441 sec)\n",
      "INFO:tensorflow:global_step/sec: 23.0876\n",
      "INFO:tensorflow:loss = 1739383.8, step = 5874 (4.332 sec)\n",
      "INFO:tensorflow:global_step/sec: 20.7486\n",
      "INFO:tensorflow:loss = 2507592.2, step = 5974 (4.819 sec)\n",
      "INFO:tensorflow:global_step/sec: 22.8943\n",
      "INFO:tensorflow:loss = 2197735.0, step = 6074 (4.368 sec)\n",
      "INFO:tensorflow:global_step/sec: 22.6667\n",
      "INFO:tensorflow:loss = 2073481.0, step = 6174 (4.412 sec)\n",
      "INFO:tensorflow:global_step/sec: 23.2544\n",
      "INFO:tensorflow:loss = 2356610.2, step = 6274 (4.300 sec)\n",
      "INFO:tensorflow:global_step/sec: 22.256\n",
      "INFO:tensorflow:loss = 1733785.0, step = 6374 (4.494 sec)\n",
      "INFO:tensorflow:global_step/sec: 23.9761\n",
      "INFO:tensorflow:loss = 4563299.0, step = 6474 (4.170 sec)\n",
      "INFO:tensorflow:global_step/sec: 21.8423\n",
      "INFO:tensorflow:loss = 3046878.5, step = 6574 (4.578 sec)\n",
      "INFO:tensorflow:global_step/sec: 23.7838\n",
      "INFO:tensorflow:loss = 3059625.5, step = 6674 (4.205 sec)\n",
      "INFO:tensorflow:global_step/sec: 22.095\n",
      "INFO:tensorflow:loss = 4440833.0, step = 6774 (4.526 sec)\n",
      "INFO:tensorflow:global_step/sec: 23.4071\n",
      "INFO:tensorflow:loss = 1768325.8, step = 6874 (4.272 sec)\n",
      "INFO:tensorflow:global_step/sec: 22.5256\n",
      "INFO:tensorflow:loss = 4194710.0, step = 6974 (4.440 sec)\n",
      "INFO:tensorflow:global_step/sec: 23.0174\n",
      "INFO:tensorflow:loss = 2560761.2, step = 7074 (4.344 sec)\n",
      "INFO:tensorflow:global_step/sec: 22.728\n",
      "INFO:tensorflow:loss = 5155970.0, step = 7174 (4.400 sec)\n",
      "INFO:tensorflow:global_step/sec: 22.7521\n",
      "INFO:tensorflow:loss = 4144944.5, step = 7274 (4.395 sec)\n",
      "INFO:tensorflow:global_step/sec: 23.5217\n",
      "INFO:tensorflow:loss = 3020019.2, step = 7374 (4.251 sec)\n",
      "INFO:tensorflow:global_step/sec: 22.3215\n",
      "INFO:tensorflow:loss = 2937804.0, step = 7474 (4.480 sec)\n",
      "INFO:tensorflow:Saving checkpoints for 7564 into /tmp/tmpl8xpxb7u/model.ckpt.\n",
      "INFO:tensorflow:Loss for final step: 3689796.2.\n",
      "INFO:tensorflow:Calling model_fn.\n",
      "INFO:tensorflow:Done calling model_fn.\n",
      "INFO:tensorflow:Create CheckpointSaverHook.\n",
      "INFO:tensorflow:Graph was finalized.\n",
      "INFO:tensorflow:Restoring parameters from /tmp/tmpl8xpxb7u/model.ckpt-7564\n",
      "INFO:tensorflow:Running local_init_op.\n",
      "INFO:tensorflow:Done running local_init_op.\n",
      "INFO:tensorflow:Saving checkpoints for 7565 into /tmp/tmpl8xpxb7u/model.ckpt.\n",
      "INFO:tensorflow:loss = 4640897.0, step = 7565\n",
      "INFO:tensorflow:global_step/sec: 22.9641\n",
      "INFO:tensorflow:loss = 1934364.4, step = 7665 (4.356 sec)\n",
      "INFO:tensorflow:global_step/sec: 22.4716\n",
      "INFO:tensorflow:loss = 2270646.5, step = 7765 (4.450 sec)\n",
      "INFO:tensorflow:global_step/sec: 23.0625\n",
      "INFO:tensorflow:loss = 3004143.2, step = 7865 (4.336 sec)\n",
      "INFO:tensorflow:global_step/sec: 21.8157\n",
      "INFO:tensorflow:loss = 2749831.8, step = 7965 (4.584 sec)\n",
      "INFO:tensorflow:global_step/sec: 23.6576\n",
      "INFO:tensorflow:loss = 3796598.5, step = 8065 (4.227 sec)\n",
      "INFO:tensorflow:global_step/sec: 21.5287\n",
      "INFO:tensorflow:loss = 3453287.5, step = 8165 (4.645 sec)\n",
      "INFO:tensorflow:global_step/sec: 23.4628\n",
      "INFO:tensorflow:loss = 1541328.8, step = 8265 (4.262 sec)\n",
      "INFO:tensorflow:global_step/sec: 22.0132\n",
      "INFO:tensorflow:loss = 3422147.2, step = 8365 (4.543 sec)\n",
      "INFO:tensorflow:global_step/sec: 22.8372\n",
      "INFO:tensorflow:loss = 2418046.5, step = 8465 (4.379 sec)\n",
      "INFO:tensorflow:global_step/sec: 22.1645\n",
      "INFO:tensorflow:loss = 2207519.0, step = 8565 (4.512 sec)\n",
      "INFO:tensorflow:global_step/sec: 22.2951\n",
      "INFO:tensorflow:loss = 1903568.8, step = 8665 (4.485 sec)\n",
      "INFO:tensorflow:global_step/sec: 22.9089\n",
      "INFO:tensorflow:loss = 1605316.8, step = 8765 (4.365 sec)\n",
      "INFO:tensorflow:global_step/sec: 21.7519\n",
      "INFO:tensorflow:loss = 2986367.5, step = 8865 (4.598 sec)\n",
      "INFO:tensorflow:global_step/sec: 23.5972\n",
      "INFO:tensorflow:loss = 5346487.0, step = 8965 (4.238 sec)\n",
      "INFO:tensorflow:global_step/sec: 21.5211\n",
      "INFO:tensorflow:loss = 2746900.0, step = 9065 (4.647 sec)\n",
      "INFO:tensorflow:global_step/sec: 23.141\n",
      "INFO:tensorflow:loss = 1434935.8, step = 9165 (4.321 sec)\n",
      "INFO:tensorflow:global_step/sec: 21.9571\n",
      "INFO:tensorflow:loss = 1966555.4, step = 9265 (4.554 sec)\n",
      "INFO:tensorflow:global_step/sec: 22.8263\n",
      "INFO:tensorflow:loss = 2307055.5, step = 9365 (4.381 sec)\n",
      "INFO:tensorflow:Saving checkpoints for 9455 into /tmp/tmpl8xpxb7u/model.ckpt.\n",
      "INFO:tensorflow:Loss for final step: 1861594.6.\n"
     ]
    }
   ],
   "source": [
    "# for i in range(50000):\n",
    "for i in range(5):\n",
    "    clf.train(input_fn=my_input_fn,steps=10000)\n",
    "\n",
    "# 小的step测试输入函数是否能正确预测\n",
    "# clf.train(input_fn=my_input_fn,steps=10)"
   ]
  },
  {
   "cell_type": "markdown",
   "metadata": {},
   "source": [
    "# 模型评估\n",
    "### 所有数据集训练完成后各个模型的准确率\n",
    "- 线性回归 average_loss：72943\n",
    "- SVM average_loss：10000\n",
    "- DNN average_loss：3000"
   ]
  },
  {
   "cell_type": "code",
   "execution_count": 52,
   "metadata": {},
   "outputs": [
    {
     "name": "stdout",
     "output_type": "stream",
     "text": [
      "INFO:tensorflow:Calling model_fn.\n",
      "INFO:tensorflow:Done calling model_fn.\n",
      "INFO:tensorflow:Starting evaluation at 2018-06-02-03:29:43\n",
      "INFO:tensorflow:Graph was finalized.\n",
      "INFO:tensorflow:Restoring parameters from /tmp/tmpl8xpxb7u/model.ckpt-9455\n",
      "INFO:tensorflow:Running local_init_op.\n",
      "INFO:tensorflow:Done running local_init_op.\n",
      "INFO:tensorflow:Finished evaluation at 2018-06-02-03:29:45\n",
      "INFO:tensorflow:Saving dict for global step 9455: average_loss = 20992.447, global_step = 9455, loss = 2657271.8\n"
     ]
    },
    {
     "data": {
      "text/plain": [
       "{'average_loss': 20992.447, 'global_step': 9455, 'loss': 2657271.8}"
      ]
     },
     "execution_count": 52,
     "metadata": {},
     "output_type": "execute_result"
    }
   ],
   "source": [
    "clf.evaluate(input_fn=input_fn_eval,steps=10000)"
   ]
  },
  {
   "cell_type": "markdown",
   "metadata": {},
   "source": [
    "# 模型预测"
   ]
  },
  {
   "cell_type": "markdown",
   "metadata": {},
   "source": [
    "### 将预测的数据保存到列表中"
   ]
  },
  {
   "cell_type": "code",
   "execution_count": 53,
   "metadata": {},
   "outputs": [
    {
     "name": "stdout",
     "output_type": "stream",
     "text": [
      "INFO:tensorflow:Calling model_fn.\n",
      "INFO:tensorflow:Done calling model_fn.\n",
      "INFO:tensorflow:Graph was finalized.\n",
      "INFO:tensorflow:Restoring parameters from /tmp/tmpl8xpxb7u/model.ckpt-9455\n",
      "INFO:tensorflow:Running local_init_op.\n",
      "INFO:tensorflow:Done running local_init_op.\n"
     ]
    }
   ],
   "source": [
    "res = clf.predict(input_fn=input_fn_predict)\n",
    "ans_list = []\n",
    "for line in res:\n",
    "    ans_list.append(line['predictions'][0])"
   ]
  },
  {
   "cell_type": "markdown",
   "metadata": {},
   "source": [
    "### 生成提交数据"
   ]
  },
  {
   "cell_type": "code",
   "execution_count": 54,
   "metadata": {},
   "outputs": [
    {
     "data": {
      "text/html": [
       "<div>\n",
       "<style scoped>\n",
       "    .dataframe tbody tr th:only-of-type {\n",
       "        vertical-align: middle;\n",
       "    }\n",
       "\n",
       "    .dataframe tbody tr th {\n",
       "        vertical-align: top;\n",
       "    }\n",
       "\n",
       "    .dataframe thead th {\n",
       "        text-align: right;\n",
       "    }\n",
       "</style>\n",
       "<table border=\"1\" class=\"dataframe\">\n",
       "  <thead>\n",
       "    <tr style=\"text-align: right;\">\n",
       "      <th></th>\n",
       "      <th>col</th>\n",
       "    </tr>\n",
       "  </thead>\n",
       "  <tbody>\n",
       "    <tr>\n",
       "      <th>0</th>\n",
       "      <td>274.870026</td>\n",
       "    </tr>\n",
       "    <tr>\n",
       "      <th>1</th>\n",
       "      <td>511.686676</td>\n",
       "    </tr>\n",
       "    <tr>\n",
       "      <th>2</th>\n",
       "      <td>107.733925</td>\n",
       "    </tr>\n",
       "    <tr>\n",
       "      <th>3</th>\n",
       "      <td>111.235054</td>\n",
       "    </tr>\n",
       "    <tr>\n",
       "      <th>4</th>\n",
       "      <td>232.561981</td>\n",
       "    </tr>\n",
       "  </tbody>\n",
       "</table>\n",
       "</div>"
      ],
      "text/plain": [
       "          col\n",
       "0  274.870026\n",
       "1  511.686676\n",
       "2  107.733925\n",
       "3  111.235054\n",
       "4  232.561981"
      ]
     },
     "execution_count": 54,
     "metadata": {},
     "output_type": "execute_result"
    }
   ],
   "source": [
    "y = pd.DataFrame({'col':[e for e in ans_list]})\n",
    "y = pd.DataFrame({'col':[e for e in ans_list]})\n",
    "y.head()"
   ]
  },
  {
   "cell_type": "code",
   "execution_count": 55,
   "metadata": {},
   "outputs": [
    {
     "data": {
      "text/html": [
       "<div>\n",
       "<style scoped>\n",
       "    .dataframe tbody tr th:only-of-type {\n",
       "        vertical-align: middle;\n",
       "    }\n",
       "\n",
       "    .dataframe tbody tr th {\n",
       "        vertical-align: top;\n",
       "    }\n",
       "\n",
       "    .dataframe thead th {\n",
       "        text-align: right;\n",
       "    }\n",
       "</style>\n",
       "<table border=\"1\" class=\"dataframe\">\n",
       "  <thead>\n",
       "    <tr style=\"text-align: right;\">\n",
       "      <th></th>\n",
       "      <th>col</th>\n",
       "    </tr>\n",
       "  </thead>\n",
       "  <tbody>\n",
       "    <tr>\n",
       "      <th>count</th>\n",
       "      <td>24552.000000</td>\n",
       "    </tr>\n",
       "    <tr>\n",
       "      <th>mean</th>\n",
       "      <td>391.714096</td>\n",
       "    </tr>\n",
       "    <tr>\n",
       "      <th>std</th>\n",
       "      <td>403.272182</td>\n",
       "    </tr>\n",
       "    <tr>\n",
       "      <th>min</th>\n",
       "      <td>-52.339867</td>\n",
       "    </tr>\n",
       "    <tr>\n",
       "      <th>25%</th>\n",
       "      <td>135.288189</td>\n",
       "    </tr>\n",
       "    <tr>\n",
       "      <th>50%</th>\n",
       "      <td>302.781830</td>\n",
       "    </tr>\n",
       "    <tr>\n",
       "      <th>75%</th>\n",
       "      <td>491.421661</td>\n",
       "    </tr>\n",
       "    <tr>\n",
       "      <th>max</th>\n",
       "      <td>4015.220459</td>\n",
       "    </tr>\n",
       "  </tbody>\n",
       "</table>\n",
       "</div>"
      ],
      "text/plain": [
       "                col\n",
       "count  24552.000000\n",
       "mean     391.714096\n",
       "std      403.272182\n",
       "min      -52.339867\n",
       "25%      135.288189\n",
       "50%      302.781830\n",
       "75%      491.421661\n",
       "max     4015.220459"
      ]
     },
     "execution_count": 55,
     "metadata": {},
     "output_type": "execute_result"
    }
   ],
   "source": [
    "y.describe()"
   ]
  },
  {
   "cell_type": "code",
   "execution_count": 56,
   "metadata": {},
   "outputs": [],
   "source": [
    "df_y = pd.read_csv('train_data/12_test_buiding.csv')"
   ]
  },
  {
   "cell_type": "code",
   "execution_count": 57,
   "metadata": {},
   "outputs": [
    {
     "data": {
      "text/html": [
       "<div>\n",
       "<style scoped>\n",
       "    .dataframe tbody tr th:only-of-type {\n",
       "        vertical-align: middle;\n",
       "    }\n",
       "\n",
       "    .dataframe tbody tr th {\n",
       "        vertical-align: top;\n",
       "    }\n",
       "\n",
       "    .dataframe thead th {\n",
       "        text-align: right;\n",
       "    }\n",
       "</style>\n",
       "<table border=\"1\" class=\"dataframe\">\n",
       "  <thead>\n",
       "    <tr style=\"text-align: right;\">\n",
       "      <th></th>\n",
       "      <th>Unnamed: 0</th>\n",
       "      <th>Unnamed: 0.1</th>\n",
       "      <th>loc_id</th>\n",
       "      <th>weekday</th>\n",
       "      <th>stage</th>\n",
       "      <th>is_weekend</th>\n",
       "      <th>month</th>\n",
       "      <th>day</th>\n",
       "      <th>hour</th>\n",
       "      <th>building</th>\n",
       "      <th>cat</th>\n",
       "    </tr>\n",
       "  </thead>\n",
       "  <tbody>\n",
       "    <tr>\n",
       "      <th>count</th>\n",
       "      <td>24552.000000</td>\n",
       "      <td>24552.000000</td>\n",
       "      <td>24552.000000</td>\n",
       "      <td>24552.000000</td>\n",
       "      <td>24552.000000</td>\n",
       "      <td>24552.000000</td>\n",
       "      <td>24552.0</td>\n",
       "      <td>24552.000000</td>\n",
       "      <td>24552.000000</td>\n",
       "      <td>24552.000000</td>\n",
       "      <td>24552.000000</td>\n",
       "    </tr>\n",
       "    <tr>\n",
       "      <th>mean</th>\n",
       "      <td>12275.500000</td>\n",
       "      <td>12275.500000</td>\n",
       "      <td>17.000000</td>\n",
       "      <td>3.193548</td>\n",
       "      <td>1.166667</td>\n",
       "      <td>0.322581</td>\n",
       "      <td>12.0</td>\n",
       "      <td>16.000000</td>\n",
       "      <td>11.500000</td>\n",
       "      <td>9.212121</td>\n",
       "      <td>1.606061</td>\n",
       "    </tr>\n",
       "    <tr>\n",
       "      <th>std</th>\n",
       "      <td>7087.696241</td>\n",
       "      <td>7087.696241</td>\n",
       "      <td>9.522098</td>\n",
       "      <td>2.006793</td>\n",
       "      <td>0.849854</td>\n",
       "      <td>0.467473</td>\n",
       "      <td>0.0</td>\n",
       "      <td>8.944454</td>\n",
       "      <td>6.922328</td>\n",
       "      <td>5.330170</td>\n",
       "      <td>0.850664</td>\n",
       "    </tr>\n",
       "    <tr>\n",
       "      <th>min</th>\n",
       "      <td>0.000000</td>\n",
       "      <td>0.000000</td>\n",
       "      <td>1.000000</td>\n",
       "      <td>0.000000</td>\n",
       "      <td>0.000000</td>\n",
       "      <td>0.000000</td>\n",
       "      <td>12.0</td>\n",
       "      <td>1.000000</td>\n",
       "      <td>0.000000</td>\n",
       "      <td>1.000000</td>\n",
       "      <td>1.000000</td>\n",
       "    </tr>\n",
       "    <tr>\n",
       "      <th>25%</th>\n",
       "      <td>6137.750000</td>\n",
       "      <td>6137.750000</td>\n",
       "      <td>9.000000</td>\n",
       "      <td>1.000000</td>\n",
       "      <td>0.000000</td>\n",
       "      <td>0.000000</td>\n",
       "      <td>12.0</td>\n",
       "      <td>8.000000</td>\n",
       "      <td>5.750000</td>\n",
       "      <td>4.000000</td>\n",
       "      <td>1.000000</td>\n",
       "    </tr>\n",
       "    <tr>\n",
       "      <th>50%</th>\n",
       "      <td>12275.500000</td>\n",
       "      <td>12275.500000</td>\n",
       "      <td>17.000000</td>\n",
       "      <td>3.000000</td>\n",
       "      <td>1.000000</td>\n",
       "      <td>0.000000</td>\n",
       "      <td>12.0</td>\n",
       "      <td>16.000000</td>\n",
       "      <td>11.500000</td>\n",
       "      <td>9.000000</td>\n",
       "      <td>1.000000</td>\n",
       "    </tr>\n",
       "    <tr>\n",
       "      <th>75%</th>\n",
       "      <td>18413.250000</td>\n",
       "      <td>18413.250000</td>\n",
       "      <td>25.000000</td>\n",
       "      <td>5.000000</td>\n",
       "      <td>2.000000</td>\n",
       "      <td>1.000000</td>\n",
       "      <td>12.0</td>\n",
       "      <td>24.000000</td>\n",
       "      <td>17.250000</td>\n",
       "      <td>14.000000</td>\n",
       "      <td>2.000000</td>\n",
       "    </tr>\n",
       "    <tr>\n",
       "      <th>max</th>\n",
       "      <td>24551.000000</td>\n",
       "      <td>24551.000000</td>\n",
       "      <td>33.000000</td>\n",
       "      <td>6.000000</td>\n",
       "      <td>2.000000</td>\n",
       "      <td>1.000000</td>\n",
       "      <td>12.0</td>\n",
       "      <td>31.000000</td>\n",
       "      <td>23.000000</td>\n",
       "      <td>18.000000</td>\n",
       "      <td>3.000000</td>\n",
       "    </tr>\n",
       "  </tbody>\n",
       "</table>\n",
       "</div>"
      ],
      "text/plain": [
       "         Unnamed: 0  Unnamed: 0.1        loc_id       weekday         stage  \\\n",
       "count  24552.000000  24552.000000  24552.000000  24552.000000  24552.000000   \n",
       "mean   12275.500000  12275.500000     17.000000      3.193548      1.166667   \n",
       "std     7087.696241   7087.696241      9.522098      2.006793      0.849854   \n",
       "min        0.000000      0.000000      1.000000      0.000000      0.000000   \n",
       "25%     6137.750000   6137.750000      9.000000      1.000000      0.000000   \n",
       "50%    12275.500000  12275.500000     17.000000      3.000000      1.000000   \n",
       "75%    18413.250000  18413.250000     25.000000      5.000000      2.000000   \n",
       "max    24551.000000  24551.000000     33.000000      6.000000      2.000000   \n",
       "\n",
       "         is_weekend    month           day          hour      building  \\\n",
       "count  24552.000000  24552.0  24552.000000  24552.000000  24552.000000   \n",
       "mean       0.322581     12.0     16.000000     11.500000      9.212121   \n",
       "std        0.467473      0.0      8.944454      6.922328      5.330170   \n",
       "min        0.000000     12.0      1.000000      0.000000      1.000000   \n",
       "25%        0.000000     12.0      8.000000      5.750000      4.000000   \n",
       "50%        0.000000     12.0     16.000000     11.500000      9.000000   \n",
       "75%        1.000000     12.0     24.000000     17.250000     14.000000   \n",
       "max        1.000000     12.0     31.000000     23.000000     18.000000   \n",
       "\n",
       "                cat  \n",
       "count  24552.000000  \n",
       "mean       1.606061  \n",
       "std        0.850664  \n",
       "min        1.000000  \n",
       "25%        1.000000  \n",
       "50%        1.000000  \n",
       "75%        2.000000  \n",
       "max        3.000000  "
      ]
     },
     "execution_count": 57,
     "metadata": {},
     "output_type": "execute_result"
    }
   ],
   "source": [
    "df_y.describe()"
   ]
  },
  {
   "cell_type": "markdown",
   "metadata": {},
   "source": [
    "### 画图查看预测的数据是否有异常"
   ]
  },
  {
   "cell_type": "code",
   "execution_count": 58,
   "metadata": {},
   "outputs": [
    {
     "data": {
      "text/plain": [
       "<matplotlib.axes._subplots.AxesSubplot at 0x7f85a5574198>"
      ]
     },
     "execution_count": 58,
     "metadata": {},
     "output_type": "execute_result"
    },
    {
     "data": {
      "image/png": "[encoded data removed]",
      "text/plain": [
       "<matplotlib.figure.Figure at 0x7f85a6250780>"
      ]
     },
     "metadata": {},
     "output_type": "display_data"
    }
   ],
   "source": [
    "fig, axes =plt.subplots(nrows=2, ncols=2,figsize=(20, 10))\n",
    "y[:50].plot(ax=axes[0,0])\n",
    "axes[0,0].set_title('50')\n",
    "axes[0,1].set_title('500')\n",
    "axes[1,0].set_title('1000')\n",
    "axes[1,1].set_title('10000')\n",
    "y[:100].plot(ax=axes[0,1])\n",
    "y[:1000].plot(ax=axes[1,0])\n",
    "y[:10000].plot(ax=axes[1,1])"
   ]
  },
  {
   "cell_type": "markdown",
   "metadata": {},
   "source": [
    "### 将数据中小于0的转化为0"
   ]
  },
  {
   "cell_type": "code",
   "execution_count": 59,
   "metadata": {},
   "outputs": [],
   "source": [
    "y_list = y.values.tolist()\n",
    "\n",
    "y_remove_0 = []\n",
    "for e in ans_list:\n",
    "    if e<0:\n",
    "        y_remove_0.append(0);\n",
    "    else:\n",
    "        y_remove_0.append(e)\n",
    "y=y_remove_0"
   ]
  },
  {
   "cell_type": "markdown",
   "metadata": {},
   "source": [
    "#### 合并测试数据和预测的数据到一个csv"
   ]
  },
  {
   "cell_type": "code",
   "execution_count": null,
   "metadata": {},
   "outputs": [],
   "source": [
    "data = {'loc_id':df_y.loc_id,'time_stamp':df_y.time_stamp,'num_of_people':y}\n",
    "df_ans_submit = pd.DataFrame(data=data)\n",
    "# df_ans_submit['num_of_people'] = y\n",
    "\n",
    "df_ans_submit['num_of_people'].describe()\n",
    "\n",
    "df_ans_submit.shape\n",
    "\n",
    "columns = ['loc_id','time_stamp','num_of_people']\n",
    "df_ans_submit.to_csv('Final_2.csv',index=False,columns=columns)"
   ]
  }
 ],
 "metadata": {
  "kernelspec": {
   "display_name": "Python 3",
   "language": "python",
   "name": "python3"
  },
  "language_info": {
   "codemirror_mode": {
    "name": "ipython",
    "version": 3
   },
   "file_extension": ".py",
   "mimetype": "text/x-python",
   "name": "python",
   "nbconvert_exporter": "python",
   "pygments_lexer": "ipython3",
   "version": "3.6.4"
  }
 },
 "nbformat": 4,
 "nbformat_minor": 2
}
